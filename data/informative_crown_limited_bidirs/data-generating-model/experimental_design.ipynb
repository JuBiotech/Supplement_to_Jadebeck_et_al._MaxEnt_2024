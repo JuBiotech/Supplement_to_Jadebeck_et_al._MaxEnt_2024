{
 "cells": [
  {
   "cell_type": "code",
   "execution_count": 12,
   "id": "13bca059-4f69-4c7a-9f97-0e51614bb858",
   "metadata": {},
   "outputs": [],
   "source": [
    "import numpy as np\n",
    "import pandas as pd\n",
    "import matplotlib.pyplot as plt\n",
    "import h5py"
   ]
  },
  {
   "cell_type": "code",
   "execution_count": 13,
   "id": "19eb822a-5905-407a-bc46-43267e27c705",
   "metadata": {},
   "outputs": [],
   "source": [
    "with h5py.File('ED.hdf5', 'r') as ed:\n",
    "    m = np.array(ed['mix/matrix'][:]).T\n",
    "    c = [c.decode() for c in list(ed['mix/c'][:])[0]]"
   ]
  },
  {
   "cell_type": "code",
   "execution_count": 14,
   "id": "e840aa10-715c-4c5e-825c-5df1bfb72a9a",
   "metadata": {},
   "outputs": [],
   "source": [
    "mix = pd.DataFrame(data=m, columns=c)"
   ]
  },
  {
   "cell_type": "code",
   "execution_count": 15,
   "id": "2a1bd926-bb5b-4fcc-8345-59213818012a",
   "metadata": {},
   "outputs": [],
   "source": [
    "mix = mix.drop(columns=['costs', 'Gluc_ext.x1', 'Gluc_ext.x2', 'Gluc_ext.x3'])"
   ]
  },
  {
   "cell_type": "code",
   "execution_count": 16,
   "id": "2d398b86-7af5-4d98-b7a2-ef077ead3e49",
   "metadata": {},
   "outputs": [
    {
     "name": "stdout",
     "output_type": "stream",
     "text": [
      "    [1,2-13C]-Gluc  [U-13C]-Gluc  [NL-13c]-Gluc  [5-13C]-Gluc  \\\n",
      "0              0.0           0.0            0.0           1.0   \n",
      "1              0.0           0.0            0.2           0.8   \n",
      "2              0.0           0.0            0.4           0.6   \n",
      "3              0.0           0.0            0.6           0.4   \n",
      "4              0.0           0.0            0.8           0.2   \n",
      "5              0.0           0.0            1.0           0.0   \n",
      "6              0.0           0.2            0.0           0.8   \n",
      "7              0.0           0.2            0.2           0.6   \n",
      "8              0.0           0.2            0.4           0.4   \n",
      "9              0.0           0.2            0.6           0.2   \n",
      "10             0.0           0.2            0.8           0.0   \n",
      "11             0.0           0.4            0.0           0.6   \n",
      "12             0.0           0.4            0.2           0.4   \n",
      "13             0.0           0.4            0.4           0.2   \n",
      "14             0.0           0.4            0.6           0.0   \n",
      "15             0.0           0.6            0.0           0.4   \n",
      "16             0.0           0.6            0.2           0.2   \n",
      "17             0.0           0.6            0.4           0.0   \n",
      "18             0.0           0.8            0.0           0.2   \n",
      "19             0.0           0.8            0.2           0.0   \n",
      "20             0.0           1.0            0.0           0.0   \n",
      "21             0.2           0.0            0.0           0.8   \n",
      "22             0.2           0.0            0.2           0.6   \n",
      "23             0.2           0.0            0.4           0.4   \n",
      "24             0.2           0.0            0.6           0.2   \n",
      "25             0.2           0.0            0.8           0.0   \n",
      "26             0.2           0.2            0.0           0.6   \n",
      "27             0.2           0.2            0.2           0.4   \n",
      "28             0.2           0.2            0.4           0.2   \n",
      "29             0.2           0.2            0.6           0.0   \n",
      "30             0.2           0.4            0.0           0.4   \n",
      "31             0.2           0.4            0.2           0.2   \n",
      "32             0.2           0.4            0.4           0.0   \n",
      "33             0.2           0.6            0.0           0.2   \n",
      "34             0.2           0.6            0.2           0.0   \n",
      "35             0.2           0.8            0.0           0.0   \n",
      "36             0.4           0.0            0.0           0.6   \n",
      "37             0.4           0.0            0.2           0.4   \n",
      "38             0.4           0.0            0.4           0.2   \n",
      "39             0.4           0.0            0.6           0.0   \n",
      "40             0.4           0.2            0.0           0.4   \n",
      "41             0.4           0.2            0.2           0.2   \n",
      "42             0.4           0.2            0.4           0.0   \n",
      "43             0.4           0.4            0.0           0.2   \n",
      "44             0.4           0.4            0.2           0.0   \n",
      "45             0.4           0.6            0.0           0.0   \n",
      "46             0.6           0.0            0.0           0.4   \n",
      "47             0.6           0.0            0.2           0.2   \n",
      "48             0.6           0.0            0.4           0.0   \n",
      "49             0.6           0.2            0.0           0.2   \n",
      "50             0.6           0.2            0.2           0.0   \n",
      "51             0.6           0.4            0.0           0.0   \n",
      "52             0.8           0.0            0.0           0.2   \n",
      "53             0.8           0.0            0.2           0.0   \n",
      "54             0.8           0.2            0.0           0.0   \n",
      "55             1.0           0.0            0.0           0.0   \n",
      "\n",
      "    information index  \n",
      "0        1.491091e+10  \n",
      "1        2.944815e+10  \n",
      "2        8.142708e+10  \n",
      "3        3.660248e+11  \n",
      "4        3.927459e+12  \n",
      "5        1.127928e+33  \n",
      "6        1.550486e+09  \n",
      "7        2.078216e+09  \n",
      "8        3.480742e+09  \n",
      "9        1.025106e+10  \n",
      "10       7.881017e+13  \n",
      "11       1.438593e+09  \n",
      "12       2.074521e+09  \n",
      "13       5.726249e+09  \n",
      "14       2.087489e+13  \n",
      "15       4.229805e+09  \n",
      "16       9.727948e+09  \n",
      "17       3.453429e+13  \n",
      "18       4.567548e+10  \n",
      "19       3.706683e+14  \n",
      "20       1.679769e+33  \n",
      "21       7.476739e+09  \n",
      "22       2.073732e+10  \n",
      "23       5.120957e+10  \n",
      "24       5.121188e+10  \n",
      "25       4.938625e+10  \n",
      "26       1.834638e+09  \n",
      "27       2.192917e+09  \n",
      "28       3.190082e+09  \n",
      "29       4.458860e+09  \n",
      "30       2.078435e+09  \n",
      "31       2.738687e+09  \n",
      "32       3.053068e+09  \n",
      "33       1.104603e+10  \n",
      "34       8.400028e+09  \n",
      "35       8.918582e+10  \n",
      "36       9.223551e+09  \n",
      "37       9.104355e+09  \n",
      "38       7.737963e+09  \n",
      "39       8.062577e+09  \n",
      "40       1.950412e+09  \n",
      "41       1.829054e+09  \n",
      "42       1.893221e+09  \n",
      "43       2.391111e+09  \n",
      "44       1.789976e+09  \n",
      "45       6.225325e+09  \n",
      "46       2.686239e+09  \n",
      "47       2.328218e+09  \n",
      "48       2.355610e+09  \n",
      "49       1.197233e+09  \n",
      "50       1.042762e+09  \n",
      "51       1.299589e+09  \n",
      "52       9.463128e+08  \n",
      "53       9.088344e+08  \n",
      "54       6.014470e+08  \n",
      "55       4.593213e+08  \n"
     ]
    }
   ],
   "source": [
    "print(mix)"
   ]
  },
  {
   "cell_type": "code",
   "execution_count": 17,
   "id": "4e92c87a-eec9-48e5-a592-79cabed3047b",
   "metadata": {},
   "outputs": [],
   "source": [
    "mix = mix.sort_values(by='information index')"
   ]
  },
  {
   "cell_type": "code",
   "execution_count": 18,
   "id": "fc0a55f5-8430-41a8-aee0-15d7128d90d6",
   "metadata": {},
   "outputs": [],
   "source": [
    "mix = mix.reset_index()"
   ]
  },
  {
   "cell_type": "code",
   "execution_count": 19,
   "id": "95f7d606-9b8e-4be6-be47-2cc9546096fd",
   "metadata": {},
   "outputs": [
    {
     "name": "stdout",
     "output_type": "stream",
     "text": [
      "    index  [1,2-13C]-Gluc  [U-13C]-Gluc  [NL-13c]-Gluc  [5-13C]-Gluc  \\\n",
      "0      55             1.0           0.0            0.0           0.0   \n",
      "1      54             0.8           0.2            0.0           0.0   \n",
      "2      53             0.8           0.0            0.2           0.0   \n",
      "3      52             0.8           0.0            0.0           0.2   \n",
      "4      50             0.6           0.2            0.2           0.0   \n",
      "5      49             0.6           0.2            0.0           0.2   \n",
      "6      51             0.6           0.4            0.0           0.0   \n",
      "7      11             0.0           0.4            0.0           0.6   \n",
      "8       6             0.0           0.2            0.0           0.8   \n",
      "9      44             0.4           0.4            0.2           0.0   \n",
      "10     41             0.4           0.2            0.2           0.2   \n",
      "11     26             0.2           0.2            0.0           0.6   \n",
      "12     42             0.4           0.2            0.4           0.0   \n",
      "13     40             0.4           0.2            0.0           0.4   \n",
      "14     12             0.0           0.4            0.2           0.4   \n",
      "15      7             0.0           0.2            0.2           0.6   \n",
      "16     30             0.2           0.4            0.0           0.4   \n",
      "17     27             0.2           0.2            0.2           0.4   \n",
      "18     47             0.6           0.0            0.2           0.2   \n",
      "19     48             0.6           0.0            0.4           0.0   \n",
      "20     43             0.4           0.4            0.0           0.2   \n",
      "21     46             0.6           0.0            0.0           0.4   \n",
      "22     31             0.2           0.4            0.2           0.2   \n",
      "23     32             0.2           0.4            0.4           0.0   \n",
      "24     28             0.2           0.2            0.4           0.2   \n",
      "25      8             0.0           0.2            0.4           0.4   \n",
      "26     15             0.0           0.6            0.0           0.4   \n",
      "27     29             0.2           0.2            0.6           0.0   \n",
      "28     13             0.0           0.4            0.4           0.2   \n",
      "29     45             0.4           0.6            0.0           0.0   \n",
      "30     21             0.2           0.0            0.0           0.8   \n",
      "31     38             0.4           0.0            0.4           0.2   \n",
      "32     39             0.4           0.0            0.6           0.0   \n",
      "33     34             0.2           0.6            0.2           0.0   \n",
      "34     37             0.4           0.0            0.2           0.4   \n",
      "35     36             0.4           0.0            0.0           0.6   \n",
      "36     16             0.0           0.6            0.2           0.2   \n",
      "37      9             0.0           0.2            0.6           0.2   \n",
      "38     33             0.2           0.6            0.0           0.2   \n",
      "39      0             0.0           0.0            0.0           1.0   \n",
      "40     22             0.2           0.0            0.2           0.6   \n",
      "41      1             0.0           0.0            0.2           0.8   \n",
      "42     18             0.0           0.8            0.0           0.2   \n",
      "43     25             0.2           0.0            0.8           0.0   \n",
      "44     23             0.2           0.0            0.4           0.4   \n",
      "45     24             0.2           0.0            0.6           0.2   \n",
      "46      2             0.0           0.0            0.4           0.6   \n",
      "47     35             0.2           0.8            0.0           0.0   \n",
      "48      3             0.0           0.0            0.6           0.4   \n",
      "49      4             0.0           0.0            0.8           0.2   \n",
      "50     14             0.0           0.4            0.6           0.0   \n",
      "51     17             0.0           0.6            0.4           0.0   \n",
      "52     10             0.0           0.2            0.8           0.0   \n",
      "53     19             0.0           0.8            0.2           0.0   \n",
      "54      5             0.0           0.0            1.0           0.0   \n",
      "55     20             0.0           1.0            0.0           0.0   \n",
      "\n",
      "    information index  \n",
      "0        4.593213e+08  \n",
      "1        6.014470e+08  \n",
      "2        9.088344e+08  \n",
      "3        9.463128e+08  \n",
      "4        1.042762e+09  \n",
      "5        1.197233e+09  \n",
      "6        1.299589e+09  \n",
      "7        1.438593e+09  \n",
      "8        1.550486e+09  \n",
      "9        1.789976e+09  \n",
      "10       1.829054e+09  \n",
      "11       1.834638e+09  \n",
      "12       1.893221e+09  \n",
      "13       1.950412e+09  \n",
      "14       2.074521e+09  \n",
      "15       2.078216e+09  \n",
      "16       2.078435e+09  \n",
      "17       2.192917e+09  \n",
      "18       2.328218e+09  \n",
      "19       2.355610e+09  \n",
      "20       2.391111e+09  \n",
      "21       2.686239e+09  \n",
      "22       2.738687e+09  \n",
      "23       3.053068e+09  \n",
      "24       3.190082e+09  \n",
      "25       3.480742e+09  \n",
      "26       4.229805e+09  \n",
      "27       4.458860e+09  \n",
      "28       5.726249e+09  \n",
      "29       6.225325e+09  \n",
      "30       7.476739e+09  \n",
      "31       7.737963e+09  \n",
      "32       8.062577e+09  \n",
      "33       8.400028e+09  \n",
      "34       9.104355e+09  \n",
      "35       9.223551e+09  \n",
      "36       9.727948e+09  \n",
      "37       1.025106e+10  \n",
      "38       1.104603e+10  \n",
      "39       1.491091e+10  \n",
      "40       2.073732e+10  \n",
      "41       2.944815e+10  \n",
      "42       4.567548e+10  \n",
      "43       4.938625e+10  \n",
      "44       5.120957e+10  \n",
      "45       5.121188e+10  \n",
      "46       8.142708e+10  \n",
      "47       8.918582e+10  \n",
      "48       3.660248e+11  \n",
      "49       3.927459e+12  \n",
      "50       2.087489e+13  \n",
      "51       3.453429e+13  \n",
      "52       7.881017e+13  \n",
      "53       3.706683e+14  \n",
      "54       1.127928e+33  \n",
      "55       1.679769e+33  \n"
     ]
    }
   ],
   "source": [
    "print(mix)"
   ]
  },
  {
   "cell_type": "code",
   "execution_count": 20,
   "id": "e89cbf5b-eb18-4c35-ad77-d274e6b98e2b",
   "metadata": {},
   "outputs": [
    {
     "data": {
      "image/png": "[encoded data removed]",
      "text/plain": [
       "<Figure size 432x288 with 1 Axes>"
      ]
     },
     "metadata": {
      "needs_background": "light"
     },
     "output_type": "display_data"
    }
   ],
   "source": [
    "mix['information index'].plot(logy=True, title='information crit')\n",
    "plt.show()"
   ]
  },
  {
   "cell_type": "code",
   "execution_count": 26,
   "id": "135a2cbb-169b-49b8-80ea-a1827edd2bc1",
   "metadata": {},
   "outputs": [
    {
     "name": "stdout",
     "output_type": "stream",
     "text": [
      "    index  [1,2-13C]-Gluc  [U-13C]-Gluc  [NL-13c]-Gluc  [5-13C]-Gluc  \\\n",
      "0      55             1.0           0.0            0.0           0.0   \n",
      "52     10             0.0           0.2            0.8           0.0   \n",
      "53     19             0.0           0.8            0.2           0.0   \n",
      "\n",
      "    information index  \n",
      "0        4.593213e+08  \n",
      "52       7.881017e+13  \n",
      "53       3.706683e+14  \n"
     ]
    }
   ],
   "source": [
    "# best and worst mixes (except the really bad ones such as only U-13C or unlabeled Gluc:\n",
    "print(mix.loc[[0, 52, 53]])"
   ]
  },
  {
   "cell_type": "code",
   "execution_count": null,
   "id": "e0767382-25b1-41ed-a094-32814394d299",
   "metadata": {},
   "outputs": [],
   "source": []
  },
  {
   "cell_type": "code",
   "execution_count": null,
   "id": "9a09d22c-3417-4e99-afd9-3444d51dfe34",
   "metadata": {},
   "outputs": [],
   "source": []
  }
 ],
 "metadata": {
  "kernelspec": {
   "display_name": "Python 3 (ipykernel)",
   "language": "python",
   "name": "python3"
  },
  "language_info": {
   "codemirror_mode": {
    "name": "ipython",
    "version": 3
   },
   "file_extension": ".py",
   "mimetype": "text/x-python",
   "name": "python",
   "nbconvert_exporter": "python",
   "pygments_lexer": "ipython3",
   "version": "3.10.6"
  }
 },
 "nbformat": 4,
 "nbformat_minor": 5
}
